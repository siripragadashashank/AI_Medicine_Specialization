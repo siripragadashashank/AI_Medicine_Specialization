{
 "cells": [
  {
   "cell_type": "code",
   "execution_count": 1,
   "id": "ab8ab2b4",
   "metadata": {},
   "outputs": [],
   "source": [
    "import numpy as np\n",
    "import keras\n",
    "import pandas as pd"
   ]
  },
  {
   "cell_type": "markdown",
   "id": "18bcb670",
   "metadata": {},
   "source": [
    "### Sub-sections\n",
    "In the assignment, you will define a \"patch size\" in three dimensions, that will be the size of the sub-section you want to extract. For this exercise, you only need to define a patch size in one dimension."
   ]
  },
  {
   "cell_type": "code",
   "execution_count": 4,
   "id": "61f8ba6a",
   "metadata": {},
   "outputs": [
    {
     "name": "stdout",
     "output_type": "stream",
     "text": [
      "start index 0\n",
      "end index 3\n",
      "output patch length:  3\n",
      "output patch array:  [10 11 12]\n"
     ]
    }
   ],
   "source": [
    "# Define a simple one dimensional \"image\" to extract from\n",
    "image = np.array([10,11,12,13,14,15])\n",
    "# Compute the dimensions of your \"image\"\n",
    "image_length = image.shape[0]\n",
    "\n",
    "patch_length = 3\n",
    "start_i = 0\n",
    "\n",
    "# Define an end index given your start index and patch size\n",
    "print(f\"start index {start_i}\")\n",
    "end_i = start_i + patch_length\n",
    "print(f\"end index {end_i}\")\n",
    "\n",
    "# Extract a sub-section from your \"image\"\n",
    "sub_section = image[start_i: end_i]\n",
    "print(\"output patch length: \", len(sub_section))\n",
    "print(\"output patch array: \", sub_section)\n",
    "\n",
    "# Add one to your start index\n",
    "start_i +=1"
   ]
  },
  {
   "cell_type": "code",
   "execution_count": 7,
   "id": "405dcbfb",
   "metadata": {},
   "outputs": [
    {
     "name": "stdout",
     "output_type": "stream",
     "text": [
      "randomly selected start index 0\n",
      "randomly selected start index 1\n",
      "randomly selected start index 2\n",
      "randomly selected start index 2\n",
      "randomly selected start index 1\n",
      "randomly selected start index 1\n",
      "randomly selected start index 3\n",
      "randomly selected start index 3\n",
      "randomly selected start index 0\n",
      "randomly selected start index 1\n",
      "randomly selected start index 0\n"
     ]
    }
   ],
   "source": [
    "# Choose a random start index, note the np.random.randint() function excludes the upper bound.\n",
    "start_i = np.random.randint(image_length - patch_length + 1)\n",
    "print(f\"randomly selected start index {start_i}\")\n",
    "\n",
    "\n",
    "# Randomly select multiple start indices in a loop\n",
    "for _ in range(10):\n",
    "    start_i = np.random.randint(image_length - patch_length + 1)\n",
    "    print(f\"randomly selected start index {start_i}\")"
   ]
  },
  {
   "cell_type": "markdown",
   "id": "eb8e8c0c",
   "metadata": {},
   "source": [
    "### Background Ratio\n",
    "\n",
    "Another thing you will be doing in the assignment is to compute the ratio of background to edema and tumorous regions. You will be provided with a file containing labels with these categories:\n",
    "\n",
    "* 0: background\n",
    "* 1: edema\n",
    "* 2: non-enhancing tumor\n",
    "* 3: enhancing tumor\n",
    "\n",
    "Let's try to demonstrate this in 1-D to get some intuition on how to implement it in 3D later in the assignment."
   ]
  },
  {
   "cell_type": "code",
   "execution_count": 22,
   "id": "084bedad",
   "metadata": {},
   "outputs": [
    {
     "name": "stdout",
     "output_type": "stream",
     "text": [
      "[2 3 1 3 1 2 1 3 1 0 1 0 0 3 3 1]\n"
     ]
    }
   ],
   "source": [
    "# We first simulate input data by defining a random patch of length 16. This will contain labels \n",
    "# with the categories (0 to 3) as defined above.\n",
    "\n",
    "patch_labels = np.random.randint(0, 4, (16))\n",
    "print(patch_labels)"
   ]
  },
  {
   "cell_type": "code",
   "execution_count": 23,
   "id": "76dd085d",
   "metadata": {},
   "outputs": [
    {
     "name": "stdout",
     "output_type": "stream",
     "text": [
      "using np.count_nonzero():  0.1875\n",
      "using np.where():  0.1875\n"
     ]
    }
   ],
   "source": [
    "# A straightforward approach to get the background ratio is\n",
    "# to count the number of 0's and divide by the patch length\n",
    "\n",
    "bgrd_ratio = np.count_nonzero(patch_labels == 0) / len(patch_labels)\n",
    "print(\"using np.count_nonzero(): \", bgrd_ratio)\n",
    "\n",
    "\n",
    "bgrd_ratio = len(np.where(patch_labels == 0)[0]) / len(patch_labels)\n",
    "print(\"using np.where(): \", bgrd_ratio)"
   ]
  },
  {
   "cell_type": "code",
   "execution_count": 24,
   "id": "a25b6050",
   "metadata": {},
   "outputs": [
    {
     "name": "stdout",
     "output_type": "stream",
     "text": [
      "[[0. 0. 1. 0.]\n",
      " [0. 0. 0. 1.]\n",
      " [0. 1. 0. 0.]\n",
      " [0. 0. 0. 1.]\n",
      " [0. 1. 0. 0.]\n",
      " [0. 0. 1. 0.]\n",
      " [0. 1. 0. 0.]\n",
      " [0. 0. 0. 1.]\n",
      " [0. 1. 0. 0.]\n",
      " [1. 0. 0. 0.]\n",
      " [0. 1. 0. 0.]\n",
      " [1. 0. 0. 0.]\n",
      " [1. 0. 0. 0.]\n",
      " [0. 0. 0. 1.]\n",
      " [0. 0. 0. 1.]\n",
      " [0. 1. 0. 0.]]\n"
     ]
    }
   ],
   "source": [
    "# However, take note that we'll use our label array to train a neural network\n",
    "# so we can opt to compute the ratio a bit later after we do some preprocessing. \n",
    "# First, we convert the label's categories into one-hot format so it can be used to train the model\n",
    "\n",
    "patch_labels_one_hot = keras.utils.to_categorical(patch_labels, num_classes=4)\n",
    "print(patch_labels_one_hot)"
   ]
  },
  {
   "cell_type": "code",
   "execution_count": 25,
   "id": "c21d759b",
   "metadata": {},
   "outputs": [
    {
     "data": {
      "text/html": [
       "<div>\n",
       "<style scoped>\n",
       "    .dataframe tbody tr th:only-of-type {\n",
       "        vertical-align: middle;\n",
       "    }\n",
       "\n",
       "    .dataframe tbody tr th {\n",
       "        vertical-align: top;\n",
       "    }\n",
       "\n",
       "    .dataframe thead th {\n",
       "        text-align: right;\n",
       "    }\n",
       "</style>\n",
       "<table border=\"1\" class=\"dataframe\">\n",
       "  <thead>\n",
       "    <tr style=\"text-align: right;\">\n",
       "      <th></th>\n",
       "      <th>background</th>\n",
       "      <th>edema</th>\n",
       "      <th>non-enhancing tumor</th>\n",
       "      <th>enhancing tumor</th>\n",
       "    </tr>\n",
       "  </thead>\n",
       "  <tbody>\n",
       "    <tr>\n",
       "      <th>0</th>\n",
       "      <td>0.0</td>\n",
       "      <td>0.0</td>\n",
       "      <td>1.0</td>\n",
       "      <td>0.0</td>\n",
       "    </tr>\n",
       "    <tr>\n",
       "      <th>1</th>\n",
       "      <td>0.0</td>\n",
       "      <td>0.0</td>\n",
       "      <td>0.0</td>\n",
       "      <td>1.0</td>\n",
       "    </tr>\n",
       "    <tr>\n",
       "      <th>2</th>\n",
       "      <td>0.0</td>\n",
       "      <td>1.0</td>\n",
       "      <td>0.0</td>\n",
       "      <td>0.0</td>\n",
       "    </tr>\n",
       "    <tr>\n",
       "      <th>3</th>\n",
       "      <td>0.0</td>\n",
       "      <td>0.0</td>\n",
       "      <td>0.0</td>\n",
       "      <td>1.0</td>\n",
       "    </tr>\n",
       "    <tr>\n",
       "      <th>4</th>\n",
       "      <td>0.0</td>\n",
       "      <td>1.0</td>\n",
       "      <td>0.0</td>\n",
       "      <td>0.0</td>\n",
       "    </tr>\n",
       "    <tr>\n",
       "      <th>5</th>\n",
       "      <td>0.0</td>\n",
       "      <td>0.0</td>\n",
       "      <td>1.0</td>\n",
       "      <td>0.0</td>\n",
       "    </tr>\n",
       "    <tr>\n",
       "      <th>6</th>\n",
       "      <td>0.0</td>\n",
       "      <td>1.0</td>\n",
       "      <td>0.0</td>\n",
       "      <td>0.0</td>\n",
       "    </tr>\n",
       "    <tr>\n",
       "      <th>7</th>\n",
       "      <td>0.0</td>\n",
       "      <td>0.0</td>\n",
       "      <td>0.0</td>\n",
       "      <td>1.0</td>\n",
       "    </tr>\n",
       "    <tr>\n",
       "      <th>8</th>\n",
       "      <td>0.0</td>\n",
       "      <td>1.0</td>\n",
       "      <td>0.0</td>\n",
       "      <td>0.0</td>\n",
       "    </tr>\n",
       "    <tr>\n",
       "      <th>9</th>\n",
       "      <td>1.0</td>\n",
       "      <td>0.0</td>\n",
       "      <td>0.0</td>\n",
       "      <td>0.0</td>\n",
       "    </tr>\n",
       "    <tr>\n",
       "      <th>10</th>\n",
       "      <td>0.0</td>\n",
       "      <td>1.0</td>\n",
       "      <td>0.0</td>\n",
       "      <td>0.0</td>\n",
       "    </tr>\n",
       "    <tr>\n",
       "      <th>11</th>\n",
       "      <td>1.0</td>\n",
       "      <td>0.0</td>\n",
       "      <td>0.0</td>\n",
       "      <td>0.0</td>\n",
       "    </tr>\n",
       "    <tr>\n",
       "      <th>12</th>\n",
       "      <td>1.0</td>\n",
       "      <td>0.0</td>\n",
       "      <td>0.0</td>\n",
       "      <td>0.0</td>\n",
       "    </tr>\n",
       "    <tr>\n",
       "      <th>13</th>\n",
       "      <td>0.0</td>\n",
       "      <td>0.0</td>\n",
       "      <td>0.0</td>\n",
       "      <td>1.0</td>\n",
       "    </tr>\n",
       "    <tr>\n",
       "      <th>14</th>\n",
       "      <td>0.0</td>\n",
       "      <td>0.0</td>\n",
       "      <td>0.0</td>\n",
       "      <td>1.0</td>\n",
       "    </tr>\n",
       "    <tr>\n",
       "      <th>15</th>\n",
       "      <td>0.0</td>\n",
       "      <td>1.0</td>\n",
       "      <td>0.0</td>\n",
       "      <td>0.0</td>\n",
       "    </tr>\n",
       "  </tbody>\n",
       "</table>\n",
       "</div>"
      ],
      "text/plain": [
       "    background  edema  non-enhancing tumor  enhancing tumor\n",
       "0          0.0    0.0                  1.0              0.0\n",
       "1          0.0    0.0                  0.0              1.0\n",
       "2          0.0    1.0                  0.0              0.0\n",
       "3          0.0    0.0                  0.0              1.0\n",
       "4          0.0    1.0                  0.0              0.0\n",
       "5          0.0    0.0                  1.0              0.0\n",
       "6          0.0    1.0                  0.0              0.0\n",
       "7          0.0    0.0                  0.0              1.0\n",
       "8          0.0    1.0                  0.0              0.0\n",
       "9          1.0    0.0                  0.0              0.0\n",
       "10         0.0    1.0                  0.0              0.0\n",
       "11         1.0    0.0                  0.0              0.0\n",
       "12         1.0    0.0                  0.0              0.0\n",
       "13         0.0    0.0                  0.0              1.0\n",
       "14         0.0    0.0                  0.0              1.0\n",
       "15         0.0    1.0                  0.0              0.0"
      ]
     },
     "execution_count": 25,
     "metadata": {},
     "output_type": "execute_result"
    }
   ],
   "source": [
    "# Let's convert the output to a dataframe just so we can see the labels more clearly\n",
    "\n",
    "pd.DataFrame(patch_labels_one_hot, columns=['background', 'edema', 'non-enhancing tumor', 'enhancing tumor'])"
   ]
  },
  {
   "cell_type": "code",
   "execution_count": 27,
   "id": "a9a884db",
   "metadata": {},
   "outputs": [
    {
     "name": "stdout",
     "output_type": "stream",
     "text": [
      "using one-hot column:  0.1875\n"
     ]
    }
   ],
   "source": [
    "# we can compute the background ratio by counting the number of 1's \n",
    "# in the said column divided by the length of the patch\n",
    "\n",
    "bgrd_ratio = np.sum(patch_labels_one_hot[:,0])/ len(patch_labels)\n",
    "print(\"using one-hot column: \", bgrd_ratio)"
   ]
  }
 ],
 "metadata": {
  "kernelspec": {
   "display_name": "Python 3",
   "language": "python",
   "name": "python3"
  },
  "language_info": {
   "codemirror_mode": {
    "name": "ipython",
    "version": 3
   },
   "file_extension": ".py",
   "mimetype": "text/x-python",
   "name": "python",
   "nbconvert_exporter": "python",
   "pygments_lexer": "ipython3",
   "version": "3.8.8"
  }
 },
 "nbformat": 4,
 "nbformat_minor": 5
}
