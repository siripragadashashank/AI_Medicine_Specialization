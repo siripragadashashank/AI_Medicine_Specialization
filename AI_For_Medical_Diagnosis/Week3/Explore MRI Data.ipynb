{
 "cells": [
  {
   "cell_type": "markdown",
   "id": "7e3f8ac2",
   "metadata": {},
   "source": [
    "<a name=\"data\"></a>\n",
    "# Explore the data\n",
    "\n",
    "<img src=\"mri-slice.png\" alt=\"U-net Image\" width=\"300\"/>\n",
    "\n",
    "In this week's assignment, you'll be working with 3D MRI brain scans from the public [Medical Segmentation Decathlon](https://decathlon-10.grand-challenge.org/) challenge project. This is an incredibly rich dataset that provides you with labels associated with each point (voxel) inside a 3D representation of a patient's brain. Ultimately, in this week's assignment, you will train a neural network to make three-dimensional spatial segmentation predictions for common brain disorders. \n",
    "\n",
    "In this notebook, you're all set up to explore this exciting dataset. Run the code below and tweak it to explore further!"
   ]
  },
  {
   "cell_type": "code",
   "execution_count": 5,
   "id": "efdc7c08",
   "metadata": {
    "scrolled": true
   },
   "outputs": [],
   "source": [
    "# Import all the necessary packages\n",
    "import numpy as np\n",
    "import nibabel as nib\n",
    "import itk\n",
    "import itkwidgets\n",
    "from ipywidgets import interact, interactive, IntSlider, ToggleButtons\n",
    "import matplotlib.pyplot as plt\n",
    "%matplotlib inline\n",
    "import seaborn as sns\n",
    "sns.set_style('darkgrid')"
   ]
  },
  {
   "cell_type": "code",
   "execution_count": null,
   "id": "8a6bea4f",
   "metadata": {},
   "outputs": [],
   "source": []
  }
 ],
 "metadata": {
  "kernelspec": {
   "display_name": "Python 3",
   "language": "python",
   "name": "python3"
  },
  "language_info": {
   "codemirror_mode": {
    "name": "ipython",
    "version": 3
   },
   "file_extension": ".py",
   "mimetype": "text/x-python",
   "name": "python",
   "nbconvert_exporter": "python",
   "pygments_lexer": "ipython3",
   "version": "3.8.8"
  }
 },
 "nbformat": 4,
 "nbformat_minor": 5
}
