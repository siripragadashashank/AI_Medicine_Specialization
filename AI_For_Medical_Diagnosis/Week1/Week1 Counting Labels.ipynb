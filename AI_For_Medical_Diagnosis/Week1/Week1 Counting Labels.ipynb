{
 "cells": [
  {
   "cell_type": "code",
   "execution_count": 1,
   "id": "d6bb2fa3",
   "metadata": {},
   "outputs": [],
   "source": [
    "import numpy as np\n",
    "import pandas as pd\n",
    "import seaborn as sns\n",
    "import matplotlib.pyplot as plt\n",
    "%matplotlib inline"
   ]
  },
  {
   "cell_type": "code",
   "execution_count": 2,
   "id": "64f9915f",
   "metadata": {},
   "outputs": [],
   "source": [
    "df = pd.read_csv('Files/nih/train-small.csv')"
   ]
  },
  {
   "cell_type": "code",
   "execution_count": 18,
   "id": "664bb2cc",
   "metadata": {},
   "outputs": [
    {
     "data": {
      "text/plain": [
       "Index(['Atelectasis', 'Cardiomegaly', 'Consolidation', 'Edema', 'Effusion',\n",
       "       'Emphysema', 'Fibrosis', 'Hernia', 'Infiltration', 'Mass', 'Nodule',\n",
       "       'Pleural_Thickening', 'Pneumonia', 'Pneumothorax'],\n",
       "      dtype='object')"
      ]
     },
     "execution_count": 18,
     "metadata": {},
     "output_type": "execute_result"
    }
   ],
   "source": [
    "class_counts = df.sum().drop(['Image', 'PatientId'])\n",
    "class_counts.index"
   ]
  },
  {
   "cell_type": "code",
   "execution_count": 24,
   "id": "4018cbca",
   "metadata": {},
   "outputs": [
    {
     "name": "stderr",
     "output_type": "stream",
     "text": [
      "C:\\ProgramData\\Anaconda3\\lib\\site-packages\\seaborn\\_decorators.py:36: FutureWarning: Pass the following variables as keyword args: x, y. From version 0.12, the only valid positional argument will be `data`, and passing other arguments without an explicit keyword will result in an error or misinterpretation.\n",
      "  warnings.warn(\n"
     ]
    },
    {
     "data": {
      "image/png": "[encoded data removed]",
      "text/plain": [
       "<Figure size 432x288 with 1 Axes>"
      ]
     },
     "metadata": {
      "needs_background": "light"
     },
     "output_type": "display_data"
    }
   ],
   "source": [
    "sns.barplot(class_counts.values, class_counts.index)\n",
    "plt.title('Distribution of Classes for Training Dataset', fontsize=15)\n",
    "plt.xlabel('Number of Patients', fontsize=15)\n",
    "plt.ylabel('Diseases', fontsize=15)\n",
    "plt.show()"
   ]
  },
  {
   "cell_type": "code",
   "execution_count": 25,
   "id": "3a43a6b7",
   "metadata": {},
   "outputs": [
    {
     "name": "stdout",
     "output_type": "stream",
     "text": [
      "y_true: \n",
      "[[1]\n",
      " [1]\n",
      " [1]\n",
      " [0]]\n"
     ]
    }
   ],
   "source": [
    "# Generate an array of 4 binary label values, 3 positive and 1 negative\n",
    "y_true = np.array(\n",
    "        [[1],\n",
    "         [1],\n",
    "         [1],\n",
    "         [0]])\n",
    "print(f\"y_true: \\n{y_true}\")"
   ]
  },
  {
   "cell_type": "code",
   "execution_count": 26,
   "id": "14ec0346",
   "metadata": {},
   "outputs": [
    {
     "name": "stdout",
     "output_type": "stream",
     "text": [
      "[[0.9]\n",
      " [0.9]\n",
      " [0.9]\n",
      " [0.9]]\n",
      "[[0.1]\n",
      " [0.1]\n",
      " [0.1]\n",
      " [0.1]]\n"
     ]
    }
   ],
   "source": [
    "# model 1\n",
    "y_pred_1 = 0.9*(np.ones(y_true.shape))\n",
    "print(y_pred_1)\n",
    "\n",
    "#model 2\n",
    "y_pred_2 = 0.1*(np.ones(y_true.shape))\n",
    "print(y_pred_2)"
   ]
  },
  {
   "cell_type": "markdown",
   "id": "f18870f6",
   "metadata": {},
   "source": [
    "### Problems with the regular loss function\n",
    "The learning goal here is to notice that with a regular loss function (not a weighted loss), the model that always outputs 0.9 has a smaller loss (performs better) than model 2.\n",
    "- This is because there is a class imbalance, where 3 out of the 4 labels are 1.\n",
    "- If the data were perfectly balanced, (two labels were 1, and two labels were 0), model 1 and model 2 would have the same loss.  Each would get two examples correct and two examples incorrect.\n",
    "- However, since the data is not balanced, the regular loss function implies that model 1 is better than model 2."
   ]
  },
  {
   "cell_type": "markdown",
   "id": "668d7bb8",
   "metadata": {},
   "source": [
    "### Calculate model 1 loss"
   ]
  },
  {
   "cell_type": "code",
   "execution_count": 27,
   "id": "ccb9dc7c",
   "metadata": {},
   "outputs": [],
   "source": [
    "def cross_entropy_loss(y_true, y_pred):\n",
    "    loss = -1*np.sum(y_true* np.log(y_pred) +\n",
    "                     (1-y_true)* np.log(1-y_pred))\n",
    "    return loss"
   ]
  },
  {
   "cell_type": "code",
   "execution_count": 29,
   "id": "3420968d",
   "metadata": {},
   "outputs": [
    {
     "data": {
      "text/plain": [
       "(2.618666639967525, 7.013115794639963)"
      ]
     },
     "execution_count": 29,
     "metadata": {},
     "output_type": "execute_result"
    }
   ],
   "source": [
    "loss_1 = cross_entropy_loss(y_true, y_pred_1)\n",
    "loss_2 = cross_entropy_loss(y_true, y_pred_2)\n",
    "loss_1, loss_2"
   ]
  },
  {
   "cell_type": "markdown",
   "id": "264bee23",
   "metadata": {},
   "source": [
    "### How a weighted loss treats both models the same\n",
    "With a weighted loss function, you will get the same weighted loss when the predictions are all 0.9 versus when the predictions are all 0.1.  \n",
    "- Notice how a prediction of 0.9 is 0.1 away from the positive label of 1.\n",
    "- Also notice how a prediction of 0.1 is 0.1 away from the negative label of 0\n",
    "- So model 1 and 2 are \"symmetric\" along the midpoint of 0.5, if you plot them on a number line between 0 and 1."
   ]
  },
  {
   "cell_type": "code",
   "execution_count": 42,
   "id": "ce74ee13",
   "metadata": {},
   "outputs": [],
   "source": [
    "def weighted_cross_entropy_loss(y_true, y_pred):\n",
    "    \n",
    "    loss_positive = -1* np.sum(y_true*np.log(y_pred))\n",
    "    loss_negative = -1* np.sum((1-y_true) * np.log(1-y_pred))\n",
    "    \n",
    "    w_neg = np.sum(y_true)/y_true.shape[0]\n",
    "    w_pos = 1-w_neg\n",
    "    \n",
    "    loss = w_neg * loss_negative + w_pos * loss_positive\n",
    "    \n",
    "    return loss"
   ]
  },
  {
   "cell_type": "code",
   "execution_count": 45,
   "id": "8c6d86eb",
   "metadata": {},
   "outputs": [
    {
     "data": {
      "text/plain": [
       "(1.805959206488904, 1.8059592064889038)"
      ]
     },
     "execution_count": 45,
     "metadata": {},
     "output_type": "execute_result"
    }
   ],
   "source": [
    "w_loss1 = weighted_cross_entropy_loss(y_true, y_pred_1)\n",
    "w_loss2 = weighted_cross_entropy_loss(y_true, y_pred_2)\n",
    "w_loss1, w_loss2"
   ]
  },
  {
   "cell_type": "markdown",
   "id": "2a832c53",
   "metadata": {},
   "source": [
    "### Weighted Loss for more than one class"
   ]
  },
  {
   "cell_type": "code",
   "execution_count": 46,
   "id": "1cc0e0ad",
   "metadata": {},
   "outputs": [
    {
     "data": {
      "text/plain": [
       "array([[1, 0],\n",
       "       [1, 0],\n",
       "       [1, 0],\n",
       "       [1, 0],\n",
       "       [0, 1]])"
      ]
     },
     "execution_count": 46,
     "metadata": {},
     "output_type": "execute_result"
    }
   ],
   "source": [
    "y_true = np.array(\n",
    "        [[1,0],\n",
    "         [1,0],\n",
    "         [1,0],\n",
    "         [1,0],\n",
    "         [0,1]\n",
    "        ])\n",
    "y_true"
   ]
  },
  {
   "cell_type": "code",
   "execution_count": 55,
   "id": "aa4dca10",
   "metadata": {},
   "outputs": [
    {
     "data": {
      "text/plain": [
       "(array([0.8, 0.2]), array([0.2, 0.8]))"
      ]
     },
     "execution_count": 55,
     "metadata": {},
     "output_type": "execute_result"
    }
   ],
   "source": [
    "w_neg = np.sum(y_true, axis = 0)/ y_true.shape[0] \n",
    "w_pos = 1-w_neg\n",
    "w_neg, w_pos"
   ]
  },
  {
   "cell_type": "code",
   "execution_count": 56,
   "id": "04072830",
   "metadata": {},
   "outputs": [
    {
     "data": {
      "text/plain": [
       "array([[0.3, 0.7],\n",
       "       [0.3, 0.7],\n",
       "       [0.3, 0.7],\n",
       "       [0.3, 0.7],\n",
       "       [0.3, 0.7]])"
      ]
     },
     "execution_count": 56,
     "metadata": {},
     "output_type": "execute_result"
    }
   ],
   "source": [
    "# Set model predictions where all predictions are the same\n",
    "y_pred = np.ones(y_true.shape)\n",
    "y_pred[:,0] = 0.3 * y_pred[:,0]\n",
    "y_pred[:,1] = 0.7 * y_pred[:,1]\n",
    "y_pred"
   ]
  },
  {
   "cell_type": "code",
   "execution_count": 61,
   "id": "173a11cd",
   "metadata": {},
   "outputs": [
    {
     "data": {
      "text/plain": [
       "(1.2485181986117346, 1.2485181986117349)"
      ]
     },
     "execution_count": 61,
     "metadata": {},
     "output_type": "execute_result"
    }
   ],
   "source": [
    "## Loss for class 0\n",
    "loss_0 = weighted_cross_entropy_loss(y_true[:,0], y_pred[:,0])\n",
    "loss_1 = weighted_cross_entropy_loss(y_true[:,1], y_pred[:,1])\n",
    "loss_0, loss_1"
   ]
  }
 ],
 "metadata": {
  "kernelspec": {
   "display_name": "Python 3",
   "language": "python",
   "name": "python3"
  },
  "language_info": {
   "codemirror_mode": {
    "name": "ipython",
    "version": 3
   },
   "file_extension": ".py",
   "mimetype": "text/x-python",
   "name": "python",
   "nbconvert_exporter": "python",
   "pygments_lexer": "ipython3",
   "version": "3.8.8"
  }
 },
 "nbformat": 4,
 "nbformat_minor": 5
}
