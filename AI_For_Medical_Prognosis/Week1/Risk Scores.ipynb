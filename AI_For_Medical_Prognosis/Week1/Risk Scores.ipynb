{
 "cells": [
  {
   "cell_type": "markdown",
   "id": "5037d64a",
   "metadata": {},
   "source": [
    "# Risk Scores\n",
    "\n",
    "Here, you'll get a chance to see the risk scores implemented as Python functions.\n",
    "- Atrial fibrillation: Chads-vasc score\n",
    "- Liver disease: MELD score\n",
    "- Heart disease: ASCVD score"
   ]
  },
  {
   "cell_type": "markdown",
   "id": "2a4c08ad",
   "metadata": {},
   "source": [
    "### Compute the chads-vasc risk score for atrial fibrillation. "
   ]
  },
  {
   "cell_type": "code",
   "execution_count": 3,
   "id": "0e21afbd",
   "metadata": {},
   "outputs": [],
   "source": [
    "# Complete the function that calculates the chads-vasc score. \n",
    "\n",
    "def chads_vasc_score(input_c, input_h, input_a2, input_d, input_s2, input_v, input_a, input_sc):\n",
    "    # congestive heart failure\n",
    "    coef_c = 1 \n",
    "    # Coefficient for hypertension\n",
    "    coef_h = 1 \n",
    "    # Coefficient for Age >= 75 years\n",
    "    coef_a2 = 2\n",
    "    # Coefficient for diabetes mellitus\n",
    "    coef_d = 1\n",
    "    # Coefficient for stroke\n",
    "    coef_s2 = 2\n",
    "    # Coefficient for vascular disease\n",
    "    coef_v = 1\n",
    "    # Coefficient for age 65 to 74 years\n",
    "    coef_a = 1\n",
    "    # TODO Coefficient for female\n",
    "    coef_sc = 1\n",
    "    # Calculate the risk score\n",
    "    risk_score = (input_c * coef_c) +\\\n",
    "                 (input_h * coef_h) +\\\n",
    "                 (input_a2 * coef_a2) +\\\n",
    "                 (input_d * coef_d) +\\\n",
    "                 (input_s2 * coef_s2) +\\\n",
    "                 (input_v * coef_v) +\\\n",
    "                 (input_a * coef_a) +\\\n",
    "                 (input_sc * coef_sc)\n",
    "    return risk_score"
   ]
  },
  {
   "cell_type": "markdown",
   "id": "becc6823",
   "metadata": {},
   "source": [
    "### Calculate the risk score\n",
    "\n",
    "Calculate the chads-vasc score for a patient who has the following attributes:\n",
    "- Congestive heart failure? No\n",
    "- Hypertension: yes\n",
    "- Age 75 or older: no\n",
    "- Diabetes mellitus: no\n",
    "- Stroke: no\n",
    "- Vascular disease: yes\n",
    "- Age 65 to 74: no\n",
    "- Female? : yes"
   ]
  },
  {
   "cell_type": "code",
   "execution_count": 4,
   "id": "df179a00",
   "metadata": {},
   "outputs": [
    {
     "name": "stdout",
     "output_type": "stream",
     "text": [
      "The chads-vasc score for this patient is 3\n"
     ]
    }
   ],
   "source": [
    "# Calculate the patient's Chads-vasc risk score\n",
    "tmp_c = 0\n",
    "tmp_h = 1\n",
    "tmp_a2 = 0\n",
    "tmp_d = 0\n",
    "tmp_s2 = 0\n",
    "tmp_v = 1\n",
    "tmp_a = 0\n",
    "tmp_sc = 1\n",
    "\n",
    "print(f\"The chads-vasc score for this patient is\",\n",
    "      f\"{chads_vasc_score(tmp_c, tmp_h, tmp_a2, tmp_d, tmp_s2, tmp_v, tmp_a, tmp_sc)}\")"
   ]
  },
  {
   "cell_type": "markdown",
   "id": "e8cc05f4",
   "metadata": {},
   "source": [
    "### Risk score for liver disease\n",
    "\n",
    "Complete the implementation of the MELD score and use it to calculate the risk score for a particular patient."
   ]
  },
  {
   "cell_type": "code",
   "execution_count": 5,
   "id": "327f5846",
   "metadata": {},
   "outputs": [],
   "source": [
    "import numpy as np"
   ]
  },
  {
   "cell_type": "code",
   "execution_count": 8,
   "id": "1972130a",
   "metadata": {},
   "outputs": [],
   "source": [
    "def liver_disease_mortality(input_creatine, input_bilirubin, input_inr):\n",
    "    \"\"\"\n",
    "    Calculate the probability of mortality given that the patient has\n",
    "    liver disease. \n",
    "    Parameters:\n",
    "        Creatine: mg/dL\n",
    "        Bilirubin: mg/dL\n",
    "        INR: \n",
    "    \"\"\"\n",
    "    # Coefficient values\n",
    "    coef_creatine = 0.957\n",
    "    coef_bilirubin = 0.378\n",
    "    coef_inr = 1.12\n",
    "    intercept = 0.643\n",
    "    # Calculate the natural logarithm of input variables\n",
    "    log_cre = np.log(input_creatine)\n",
    "    log_bil = np.log(input_bilirubin)\n",
    "    \n",
    "    # TODO: Calculate the natural log of input_inr\n",
    "    log_inr = np.log(input_inr)\n",
    "    \n",
    "    # Compute output\n",
    "    meld_score = (coef_creatine * log_cre) +\\\n",
    "                 (coef_bilirubin * log_bil ) +\\\n",
    "                 (coef_inr * log_inr) +\\\n",
    "                 intercept\n",
    "    \n",
    "    # TODO: Multiply meld_score by 10 to get the final risk score\n",
    "    meld_score = 10*meld_score\n",
    "    \n",
    "    return meld_score"
   ]
  },
  {
   "cell_type": "markdown",
   "id": "83ecf42a",
   "metadata": {},
   "source": [
    "For a patient who has \n",
    "- Creatinine: 1 mg/dL\n",
    "- Bilirubin: 2 mg/dL\n",
    "- INR: 1.1\n",
    "\n",
    "Calculate their MELD score"
   ]
  },
  {
   "cell_type": "code",
   "execution_count": 9,
   "id": "29de0ca5",
   "metadata": {},
   "outputs": [
    {
     "name": "stdout",
     "output_type": "stream",
     "text": [
      "The patient's MELD score is: 10.12\n"
     ]
    }
   ],
   "source": [
    "tmp_meld_score = liver_disease_mortality(1.0, 2.0, 1.1)\n",
    "print(f\"The patient's MELD score is: {tmp_meld_score:.2f}\")"
   ]
  },
  {
   "cell_type": "markdown",
   "id": "4bd8c4a2",
   "metadata": {},
   "source": [
    "### ASCVD Risk score for heart disease\n",
    "\n",
    "Complete the function that calculates the ASCVD risk score!\n",
    "\n",
    "- Ln(Age), coefficient is 17.114\n",
    "- Ln(total cholesterol): coefficient is 0.94\n",
    "- Ln(HDL): coefficient is -18.920\n",
    "- Ln(Age) x Ln(HDL-C): coefficient is 4.475\n",
    "- Ln (Untreated systolic BP): coefficient is 27.820\n",
    "- Ln (Age) x Ln 10 (Untreated systolic BP): coefficient  is -6.087\n",
    "- Current smoker (1 or 0): coefficient is 0.691\n",
    "- Diabetes (1 or 0): coefficient is 0.874\n",
    "\n",
    "\n",
    "Remember that after you calculate the sum of the products (of inputs and coefficients), use this formula to get the risk score:\n",
    "\n",
    "$$Risk = 1 - 0.9533^{e^{sumProd - 86.61}}$$\n",
    "\n",
    "This is 0.9533 raised to the power of this expression: $e^{sumProd - 86.61}$, and not 0.9533 multiplied by that exponential."
   ]
  },
  {
   "cell_type": "code",
   "execution_count": 11,
   "id": "f58d7b4a",
   "metadata": {},
   "outputs": [],
   "source": [
    "def ascvd(x_age,\n",
    "          x_cho,\n",
    "          x_hdl,\n",
    "          x_sbp,\n",
    "          x_smo,\n",
    "          x_dia,\n",
    "          verbose=False\n",
    "         ):\n",
    "    \"\"\"\n",
    "    Atherosclerotic Cardiovascular Disease\n",
    "    (ASCVD) Risk Estimator Plus\n",
    "    \"\"\"\n",
    "    \n",
    "    # Define the coefficients\n",
    "    b_age = 17.114\n",
    "    b_cho = 0.94\n",
    "    b_hdl = -18.92\n",
    "    b_age_hdl = 4.475\n",
    "    b_sbp = 27.82\n",
    "    b_age_sbp = -6.087\n",
    "    b_smo = 0.691\n",
    "    b_dia = 0.874\n",
    "    \n",
    "    # Calculate the sum of the products of inputs and coefficients\n",
    "    sum_prod =  b_age * np.log(x_age) + \\\n",
    "                b_cho * np.log(x_cho) + \\\n",
    "                b_hdl * np.log(x_hdl) + \\\n",
    "                b_age_hdl * np.log(x_age) * np.log(x_hdl) +\\\n",
    "                b_sbp * np.log(x_sbp) +\\\n",
    "                b_age_sbp * np.log(x_age) * np.log(x_sbp) +\\\n",
    "                b_smo * x_smo + \\\n",
    "                b_dia * x_dia\n",
    "    \n",
    "    if verbose:\n",
    "        print(f\"np.log(x_age):{np.log(x_age):.2f}\")\n",
    "        print(f\"np.log(x_cho):{np.log(x_cho):.2f}\")\n",
    "        print(f\"np.log(x_hdl):{np.log(x_hdl):.2f}\")\n",
    "        print(f\"np.log(x_age) * np.log(x_hdl):{np.log(x_age) * np.log(x_hdl):.2f}\")\n",
    "        print(f\"np.log(x_sbp): {np.log(x_sbp):2f}\")\n",
    "        print(f\"np.log(x_age) * np.log(x_sbp): {np.log(x_age) * np.log(x_sbp):.2f}\")\n",
    "        print(f\"sum_prod {sum_prod:.2f}\")\n",
    "        \n",
    "    # TODO: Risk Score = 1 - (0.9533^( e^(sum - 86.61) ) )\n",
    "    risk_score = 1-0.9533**(np.exp(sum_prod-86.61))\n",
    "    \n",
    "    return risk_score"
   ]
  },
  {
   "cell_type": "code",
   "execution_count": 12,
   "id": "858a6b84",
   "metadata": {},
   "outputs": [
    {
     "name": "stdout",
     "output_type": "stream",
     "text": [
      "np.log(x_age):4.01\n",
      "np.log(x_cho):5.36\n",
      "np.log(x_hdl):3.91\n",
      "np.log(x_age) * np.log(x_hdl):15.68\n",
      "np.log(x_sbp): 4.787492\n",
      "np.log(x_age) * np.log(x_sbp): 19.19\n",
      "sum_prod 86.17\n",
      "\n",
      "patient's ascvd risk score is 0.03\n"
     ]
    }
   ],
   "source": [
    "tmp_risk_score = ascvd(x_age=55,\n",
    "                      x_cho=213,\n",
    "                      x_hdl=50,\n",
    "                      x_sbp=120,\n",
    "                      x_smo=0,\n",
    "                      x_dia=0, \n",
    "                      verbose=True\n",
    "                      )\n",
    "print(f\"\\npatient's ascvd risk score is {tmp_risk_score:.2f}\")"
   ]
  },
  {
   "cell_type": "code",
   "execution_count": 13,
   "id": "513fec0a",
   "metadata": {},
   "outputs": [],
   "source": [
    "from util import DataGenerator"
   ]
  },
  {
   "cell_type": "code",
   "execution_count": 14,
   "id": "13b141a3",
   "metadata": {},
   "outputs": [],
   "source": [
    "data_gen = DataGenerator(100)"
   ]
  },
  {
   "cell_type": "code",
   "execution_count": 15,
   "id": "ca183b3e",
   "metadata": {},
   "outputs": [],
   "source": [
    "X, y = data_gen.load_data()"
   ]
  },
  {
   "cell_type": "code",
   "execution_count": 16,
   "id": "17405e65",
   "metadata": {},
   "outputs": [
    {
     "data": {
      "text/plain": [
       "(         Age  Systolic_BP  Diastolic_BP  Cholesterol\n",
       " 0  77.196340    78.379387     86.862625    83.344731\n",
       " 1  63.529850    85.439716     77.288707   107.483614\n",
       " 2  69.003986    98.406978     85.411057   118.495893\n",
       " 3  82.638210   100.362697     71.119650    87.737132\n",
       " 4  78.346286   121.854369     92.013270    99.121558,\n",
       " 0    0.0\n",
       " 1    0.0\n",
       " 2    1.0\n",
       " 3    1.0\n",
       " 4    1.0\n",
       " Name: y, dtype: float64)"
      ]
     },
     "execution_count": 16,
     "metadata": {},
     "output_type": "execute_result"
    }
   ],
   "source": [
    "X.head(), y.head()"
   ]
  },
  {
   "cell_type": "code",
   "execution_count": null,
   "id": "17f765b6",
   "metadata": {},
   "outputs": [],
   "source": []
  }
 ],
 "metadata": {
  "kernelspec": {
   "display_name": "Python 3 (ipykernel)",
   "language": "python",
   "name": "python3"
  },
  "language_info": {
   "codemirror_mode": {
    "name": "ipython",
    "version": 3
   },
   "file_extension": ".py",
   "mimetype": "text/x-python",
   "name": "python",
   "nbconvert_exporter": "python",
   "pygments_lexer": "ipython3",
   "version": "3.7.11"
  }
 },
 "nbformat": 4,
 "nbformat_minor": 5
}
