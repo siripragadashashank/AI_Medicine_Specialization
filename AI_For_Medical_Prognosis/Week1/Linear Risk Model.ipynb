{
 "cells": [
  {
   "cell_type": "markdown",
   "id": "6c83e3e1",
   "metadata": {},
   "source": [
    "# Build and Evaluate a Linear Risk model"
   ]
  },
  {
   "cell_type": "markdown",
   "id": "f60dd71c",
   "metadata": {},
   "source": [
    "## Outline\n",
    "\n",
    "- [1. Import Packages](#1)\n",
    "- [2. Load Data](#2)\n",
    "- [3. Explore the Dataset](#3)\n",
    "- [4. Mean-Normalize the Data](#4)\n",
    "    - [Exercise 1](#Ex-1)\n",
    "- [5. Build the Model](#Ex-2)\n",
    "    - [Exercise 2](#Ex-2)\n",
    "- [6. Evaluate the Model Using the C-Index](#6)\n",
    "    - [Exercise 3](#Ex-3)\n",
    "- [7. Evaluate the Model on the Test Set](#7)\n",
    "- [8. Improve the Model](#8)\n",
    "    - [Exercise 4](#Ex-4)\n",
    "- [9. Evalute the Improved Model](#9)"
   ]
  },
  {
   "cell_type": "markdown",
   "id": "404c7c63",
   "metadata": {},
   "source": [
    "## Overview of the Assignment\n",
    "\n",
    "In this assignment, you'll build a risk score model for retinopathy in diabetes patients using logistic regression.\n",
    "\n",
    "As we develop the model, we will learn about the following topics:\n",
    "\n",
    "- Data preprocessing\n",
    "  - Log transformations\n",
    "  - Standardization\n",
    "- Basic Risk Models\n",
    "  - Logistic Regression\n",
    "  - C-index\n",
    "  - Interactions Terms\n",
    "  \n",
    "### Diabetic Retinopathy\n",
    "Retinopathy is an eye condition that causes changes to the blood vessels in the part of the eye called the retina.\n",
    "This often leads to vision changes or blindness.\n",
    "Diabetic patients are known to be at high risk for retinopathy. \n",
    "    \n",
    "### Logistic Regression    \n",
    "Logistic regression is an appropriate analysis to use for predicting the probability of a binary outcome. In our case, this would be the probability of having or not having diabetic retinopathy.\n",
    "Logistic Regression is one of the most commonly used algorithms for binary classification. It is used to find the best fitting model to describe the relationship between a set of features (also referred to as input, independent, predictor, or explanatory variables) and a binary outcome label (also referred to as an output, dependent, or response variable). Logistic regression has the property that the output prediction is always in the range $[0,1]$. Sometimes this output is used to represent a probability from 0%-100%, but for straight binary classification, the output is converted to either $0$ or $1$ depending on whether it is below or above a certain threshold, usually $0.5$.\n",
    "\n",
    "It may be  confusing that the term regression appears in the name even though logistic regression is actually a classification algorithm, but that's just a name it was given for historical reasons."
   ]
  },
  {
   "cell_type": "markdown",
   "id": "75bbcb74",
   "metadata": {},
   "source": [
    "<a name='1'></a>\n",
    "## 1.  Import Packages\n",
    "\n",
    "We'll first import all the packages that we need for this assignment. \n",
    "\n",
    "- `numpy` is the fundamental package for scientific computing in python.\n",
    "- `pandas` is what we'll use to manipulate our data.\n",
    "- `matplotlib` is a plotting library."
   ]
  },
  {
   "cell_type": "code",
   "execution_count": 1,
   "id": "a4af99d3",
   "metadata": {},
   "outputs": [],
   "source": [
    "import numpy as np\n",
    "import pandas as pd\n",
    "import matplotlib.pyplot as plt"
   ]
  },
  {
   "cell_type": "markdown",
   "id": "cadb37f1",
   "metadata": {},
   "source": [
    "<a name='2'></a>\n",
    "## 2. Load Data\n",
    "\n",
    "First we will load in the dataset that we will use for training and testing our model.\n",
    "\n",
    "- Run the next cell to load the data that is stored in csv files.\n",
    "- There is a function `load_data` which randomly generates data, but for consistency, please use the data from the csv files."
   ]
  },
  {
   "cell_type": "code",
   "execution_count": 6,
   "id": "500492a3",
   "metadata": {},
   "outputs": [],
   "source": [
    "from util import DataGenerator\n",
    "\n",
    "\n",
    "# This function creates randomly generated data\n",
    "# X, y = load_data(6000)\n",
    "\n",
    "# For stability, load data from files that were generated using the load_data\n",
    "X = pd.read_csv('X_data.csv',index_col=0)\n",
    "y_df = pd.read_csv('y_data.csv',index_col=0)\n",
    "y = y_df['y']"
   ]
  },
  {
   "cell_type": "markdown",
   "id": "c93cb185",
   "metadata": {},
   "source": [
    "`X` and `y` are Pandas DataFrames that hold the data for 6,000 diabetic patients. "
   ]
  },
  {
   "cell_type": "markdown",
   "id": "6107e4d2",
   "metadata": {},
   "source": [
    "<a name='3'></a>\n",
    "##  3. Explore the Dataset\n",
    "\n",
    "The features (`X`) include the following fields:\n",
    "* Age: (years)\n",
    "* Systolic_BP: Systolic blood pressure (mmHg)\n",
    "* Diastolic_BP: Diastolic blood pressure (mmHg)\n",
    "* Cholesterol: (mg/DL)\n",
    "    \n",
    "We can use the `head()` method to display the first few records of each.    "
   ]
  },
  {
   "cell_type": "code",
   "execution_count": 8,
   "id": "551da9af",
   "metadata": {},
   "outputs": [
    {
     "data": {
      "text/plain": [
       "(         Age  Systolic_BP  Diastolic_BP  Cholesterol\n",
       " 0  77.196340    85.288742     80.021878    79.957109\n",
       " 1  63.529850    99.379736     84.852361   110.382411\n",
       " 2  69.003986   111.349455    109.850616   100.828246\n",
       " 3  82.638210    95.056128     79.666851    87.066303\n",
       " 4  78.346286   109.154591     90.713220    92.511770,\n",
       " 0    1.0\n",
       " 1    1.0\n",
       " 2    1.0\n",
       " 3    1.0\n",
       " 4    1.0\n",
       " Name: y, dtype: float64)"
      ]
     },
     "execution_count": 8,
     "metadata": {},
     "output_type": "execute_result"
    }
   ],
   "source": [
    "X.head(), y.head()"
   ]
  },
  {
   "cell_type": "markdown",
   "id": "c957472d",
   "metadata": {},
   "source": [
    "The target (`y`) is an indicator of whether or not the patient developed retinopathy.\n",
    "\n",
    "* y = 1 : patient has retinopathy.\n",
    "* y = 0 : patient does not have retinopathy."
   ]
  },
  {
   "cell_type": "markdown",
   "id": "97c375a3",
   "metadata": {},
   "source": [
    "Before we build a model, let's take a closer look at the distribution of our training data. To do this, we will split the data into train and test sets using a 75/25 split.\n",
    "\n",
    "For this, we can use the built in function provided by sklearn library.  See the documentation for [sklearn.model_selection.train_test_split](https://scikit-learn.org/stable/modules/generated/sklearn.model_selection.train_test_split.html). "
   ]
  },
  {
   "cell_type": "code",
   "execution_count": null,
   "id": "ca199e3a",
   "metadata": {},
   "outputs": [],
   "source": []
  }
 ],
 "metadata": {
  "kernelspec": {
   "display_name": "Python 3 (ipykernel)",
   "language": "python",
   "name": "python3"
  },
  "language_info": {
   "codemirror_mode": {
    "name": "ipython",
    "version": 3
   },
   "file_extension": ".py",
   "mimetype": "text/x-python",
   "name": "python",
   "nbconvert_exporter": "python",
   "pygments_lexer": "ipython3",
   "version": "3.7.11"
  }
 },
 "nbformat": 4,
 "nbformat_minor": 5
}
