{
 "cells": [
  {
   "cell_type": "markdown",
   "id": "6c83e3e1",
   "metadata": {},
   "source": [
    "# Build and Evaluate a Linear Risk model"
   ]
  },
  {
   "cell_type": "markdown",
   "id": "f60dd71c",
   "metadata": {},
   "source": [
    "## Outline\n",
    "\n",
    "- [1. Import Packages](#1)\n",
    "- [2. Load Data](#2)\n",
    "- [3. Explore the Dataset](#3)\n",
    "- [4. Mean-Normalize the Data](#4)\n",
    "    - [Exercise 1](#Ex-1)\n",
    "- [5. Build the Model](#Ex-2)\n",
    "    - [Exercise 2](#Ex-2)\n",
    "- [6. Evaluate the Model Using the C-Index](#6)\n",
    "    - [Exercise 3](#Ex-3)\n",
    "- [7. Evaluate the Model on the Test Set](#7)\n",
    "- [8. Improve the Model](#8)\n",
    "    - [Exercise 4](#Ex-4)\n",
    "- [9. Evalute the Improved Model](#9)"
   ]
  },
  {
   "cell_type": "code",
   "execution_count": null,
   "id": "b0908972",
   "metadata": {},
   "outputs": [],
   "source": []
  }
 ],
 "metadata": {
  "kernelspec": {
   "display_name": "Python 3 (ipykernel)",
   "language": "python",
   "name": "python3"
  },
  "language_info": {
   "codemirror_mode": {
    "name": "ipython",
    "version": 3
   },
   "file_extension": ".py",
   "mimetype": "text/x-python",
   "name": "python",
   "nbconvert_exporter": "python",
   "pygments_lexer": "ipython3",
   "version": "3.7.11"
  }
 },
 "nbformat": 4,
 "nbformat_minor": 5
}
