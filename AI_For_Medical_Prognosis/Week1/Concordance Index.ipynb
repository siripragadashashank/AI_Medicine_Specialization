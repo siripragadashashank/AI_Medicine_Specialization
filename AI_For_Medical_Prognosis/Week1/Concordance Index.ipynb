{
 "cells": [
  {
   "cell_type": "markdown",
   "id": "90e17ff7",
   "metadata": {},
   "source": [
    "# Concordance index"
   ]
  },
  {
   "cell_type": "markdown",
   "id": "c605e7df",
   "metadata": {},
   "source": [
    "In this week's graded assignment, you will implement the concordance index (c-index).  To get some practice with what you've seen in lecture, and to prepare for this week's assignment, you will write code to find permissible pairs, concordant pairs, and risk ties.\n",
    "\n",
    "First start by importing packages and generating a small dataset.  The data is small enough that you can visually check the pairs of patients."
   ]
  },
  {
   "cell_type": "code",
   "execution_count": 1,
   "id": "3479120b",
   "metadata": {},
   "outputs": [],
   "source": [
    "# import packages\n",
    "import pandas as pd"
   ]
  },
  {
   "cell_type": "code",
   "execution_count": 2,
   "id": "5db3e573",
   "metadata": {},
   "outputs": [
    {
     "data": {
      "text/plain": [
       "0    0\n",
       "1    0\n",
       "2    1\n",
       "3    0\n",
       "Name: health, dtype: int64"
      ]
     },
     "execution_count": 2,
     "metadata": {},
     "output_type": "execute_result"
    }
   ],
   "source": [
    "# define 'y', the outcome of the patient\n",
    "y = pd.Series([0,0,1,0])\n",
    "y.name=\"health\"\n",
    "y"
   ]
  },
  {
   "cell_type": "code",
   "execution_count": 3,
   "id": "bde9e474",
   "metadata": {},
   "outputs": [
    {
     "data": {
      "text/plain": [
       "0    2.2\n",
       "1    3.3\n",
       "2    4.4\n",
       "3    4.4\n",
       "Name: risk score, dtype: float64"
      ]
     },
     "execution_count": 3,
     "metadata": {},
     "output_type": "execute_result"
    }
   ],
   "source": [
    "# Define the risk scores for each patient\n",
    "risk_score = pd.Series([2.2, 3.3, 4.4, 4.4])\n",
    "risk_score.name='risk score'\n",
    "risk_score"
   ]
  },
  {
   "cell_type": "code",
   "execution_count": 4,
   "id": "e0b0d843",
   "metadata": {},
   "outputs": [
    {
     "name": "stdout",
     "output_type": "stream",
     "text": [
      "patient 2 (4.4) and patient 3 (4.4) have a risk tie\n"
     ]
    }
   ],
   "source": [
    "# Check if patients 2 and 3 make a risk tie\n",
    "if risk_score[2] == risk_score[3]:\n",
    "    print(f\"patient 2 ({risk_score[2]}) and patient 3 ({risk_score[3]}) have a risk tie\")\n",
    "else:\n",
    "    print(f\"patient 2 ({risk_score[2]}) and patient 3 ({risk_score[3]}) DO NOT have a risk tie\")"
   ]
  },
  {
   "cell_type": "code",
   "execution_count": 5,
   "id": "18f496e1",
   "metadata": {},
   "outputs": [
    {
     "name": "stdout",
     "output_type": "stream",
     "text": [
      "patient 1 and 2 is a concordant pair\n"
     ]
    }
   ],
   "source": [
    "# Check if patient 1 and 2 make a concordant pair\n",
    "if y[1] == 0 and y[2] == 1:\n",
    "    if risk_score[1] < risk_score[2]:\n",
    "        print(f\"patient 1 and 2 is a concordant pair\")"
   ]
  },
  {
   "cell_type": "code",
   "execution_count": null,
   "id": "e210b8e7",
   "metadata": {},
   "outputs": [],
   "source": []
  }
 ],
 "metadata": {
  "kernelspec": {
   "display_name": "Python 3 (ipykernel)",
   "language": "python",
   "name": "python3"
  },
  "language_info": {
   "codemirror_mode": {
    "name": "ipython",
    "version": 3
   },
   "file_extension": ".py",
   "mimetype": "text/x-python",
   "name": "python",
   "nbconvert_exporter": "python",
   "pygments_lexer": "ipython3",
   "version": "3.7.11"
  }
 },
 "nbformat": 4,
 "nbformat_minor": 5
}
