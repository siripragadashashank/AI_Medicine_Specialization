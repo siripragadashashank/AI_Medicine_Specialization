{
 "cells": [
  {
   "cell_type": "markdown",
   "id": "7a736d05",
   "metadata": {},
   "source": [
    "# Risk Models Using Tree-based Models"
   ]
  },
  {
   "cell_type": "markdown",
   "id": "f21b9a28",
   "metadata": {},
   "source": [
    "## Outline\n",
    "\n",
    "- [1. Import Packages](#1)\n",
    "- [2. Load the Dataset](#2)\n",
    "- [3. Explore the Dataset](#3)\n",
    "- [4. Dealing with Missing Data](#4)\n",
    "    - [Exercise 1](#Ex-1)\n",
    "- [5. Decision Trees](#5)\n",
    "    - [Exercise 2](#Ex-2)\n",
    "- [6. Random Forests](#6)\n",
    "    - [Exercise 3](#Ex-3)\n",
    "- [7. Imputation](#7)\n",
    "- [8. Error Analysis](#8)\n",
    "    - [Exercise 4](#Ex-4)\n",
    "- [9. Imputation Approaches](#Ex-9)\n",
    "    - [Exercise 5](#Ex-5)\n",
    "    - [Exercise 6](#Ex-6)\n",
    "- [10. Comparison](#10)\n",
    "- [11. Explanations: SHAP](#)"
   ]
  },
  {
   "cell_type": "markdown",
   "id": "7d4c94e7",
   "metadata": {},
   "source": [
    "In this assignment, you'll gain experience with tree based models by predicting the 10-year risk of death of individuals from the NHANES I epidemiology dataset (for a detailed description of this dataset you can check the [CDC Website](https://wwwn.cdc.gov/nchs/nhanes/nhefs/default.aspx/)). This is a challenging task and a great test bed for the machine learning methods we learned this week.\n",
    "\n",
    "As you go through the assignment, you'll learn about: \n",
    "\n",
    "- Dealing with Missing Data\n",
    "  - Complete Case Analysis.\n",
    "  - Imputation\n",
    "- Decision Trees\n",
    "  - Evaluation.\n",
    "  - Regularization.\n",
    "- Random Forests \n",
    "  - Hyperparameter Tuning."
   ]
  },
  {
   "cell_type": "markdown",
   "id": "45910562",
   "metadata": {},
   "source": [
    "<a name='1'></a>\n",
    "## 1. Import Packages\n",
    "\n",
    "We'll first import all the common packages that we need for this assignment. \n",
    "\n",
    "- `shap` is a library that explains predictions made by machine learning models.\n",
    "- `sklearn` is one of the most popular machine learning libraries.\n",
    "- `itertools` allows us to conveniently manipulate iterable objects such as lists.\n",
    "- `pydotplus` is used together with `IPython.display.Image` to visualize graph structures such as decision trees.\n",
    "- `numpy` is a fundamental package for scientific computing in Python.\n",
    "- `pandas` is what we'll use to manipulate our data.\n",
    "- `seaborn` is a plotting library which has some convenient functions for visualizing missing data.\n",
    "- `matplotlib` is a plotting library."
   ]
  },
  {
   "cell_type": "code",
   "execution_count": 1,
   "id": "e46dff3a",
   "metadata": {},
   "outputs": [],
   "source": [
    "import shap\n",
    "import sklearn\n",
    "import itertools\n",
    "import pydotplus\n",
    "import numpy as np\n",
    "import pandas as pd\n",
    "import seaborn as sns\n",
    "import matplotlib.pyplot as plt\n",
    "\n",
    "from IPython.display import Image \n",
    "\n",
    "from six import StringIO\n",
    "from sklearn.tree import export_graphviz\n",
    "#from sklearn.externals.six import StringIO\n",
    "from sklearn.tree import DecisionTreeClassifier\n",
    "from sklearn.ensemble import RandomForestClassifier\n",
    "from sklearn.model_selection import train_test_split\n",
    "from sklearn.experimental import enable_iterative_imputer\n",
    "from sklearn.impute import IterativeImputer, SimpleImputer\n",
    "\n",
    "# We'll also import some helper functions that will be useful later on.\n",
    "from utils import DataLoader"
   ]
  },
  {
   "cell_type": "markdown",
   "id": "da67cc38",
   "metadata": {},
   "source": [
    "<a name='2'></a>\n",
    "## 2. Load the Dataset"
   ]
  },
  {
   "cell_type": "markdown",
   "id": "32853eb2",
   "metadata": {},
   "source": [
    "Run the next cell to load in the NHANES I epidemiology dataset. This dataset contains various features of hospital patients as well as their outcomes, i.e. whether or not they died within 10 years."
   ]
  },
  {
   "cell_type": "code",
   "execution_count": 2,
   "id": "43f04c24",
   "metadata": {},
   "outputs": [],
   "source": [
    "dataloader = DataLoader(10)\n",
    "\n",
    "X_dev, X_test, y_dev, y_test = dataloader.load_data()"
   ]
  },
  {
   "cell_type": "markdown",
   "id": "d2aa7034",
   "metadata": {},
   "source": [
    "The dataset has been split into a development set (or dev set), which we will use to develop our risk models, and a test set, which we will use to test our models.\n",
    "\n",
    "We further split the dev set into a training and validation set, respectively to train and tune our models, using a 75/25 split (note that we set a random state to make this split repeatable)."
   ]
  },
  {
   "cell_type": "code",
   "execution_count": 3,
   "id": "c36aad7b",
   "metadata": {},
   "outputs": [],
   "source": [
    "X_train, X_val, y_train, y_val = train_test_split(X_dev, y_dev, test_size=0.25, random_state=10)"
   ]
  },
  {
   "cell_type": "markdown",
   "id": "5a1027a0",
   "metadata": {},
   "source": [
    "<a name='3'></a>\n",
    "## 3. Explore the Dataset"
   ]
  },
  {
   "cell_type": "code",
   "execution_count": 4,
   "id": "529aa1ef",
   "metadata": {},
   "outputs": [
    {
     "name": "stdout",
     "output_type": "stream",
     "text": [
      "X_train shape: (5147, 18)\n"
     ]
    },
    {
     "data": {
      "text/html": [
       "<div>\n",
       "<style scoped>\n",
       "    .dataframe tbody tr th:only-of-type {\n",
       "        vertical-align: middle;\n",
       "    }\n",
       "\n",
       "    .dataframe tbody tr th {\n",
       "        vertical-align: top;\n",
       "    }\n",
       "\n",
       "    .dataframe thead th {\n",
       "        text-align: right;\n",
       "    }\n",
       "</style>\n",
       "<table border=\"1\" class=\"dataframe\">\n",
       "  <thead>\n",
       "    <tr style=\"text-align: right;\">\n",
       "      <th></th>\n",
       "      <th>Age</th>\n",
       "      <th>Diastolic BP</th>\n",
       "      <th>Poverty index</th>\n",
       "      <th>Race</th>\n",
       "      <th>Red blood cells</th>\n",
       "      <th>Sedimentation rate</th>\n",
       "      <th>Serum Albumin</th>\n",
       "      <th>Serum Cholesterol</th>\n",
       "      <th>Serum Iron</th>\n",
       "      <th>Serum Magnesium</th>\n",
       "      <th>Serum Protein</th>\n",
       "      <th>Sex</th>\n",
       "      <th>Systolic BP</th>\n",
       "      <th>TIBC</th>\n",
       "      <th>TS</th>\n",
       "      <th>White blood cells</th>\n",
       "      <th>BMI</th>\n",
       "      <th>Pulse pressure</th>\n",
       "    </tr>\n",
       "  </thead>\n",
       "  <tbody>\n",
       "    <tr>\n",
       "      <th>1599</th>\n",
       "      <td>43.0</td>\n",
       "      <td>84.0</td>\n",
       "      <td>637.0</td>\n",
       "      <td>1.0</td>\n",
       "      <td>49.3</td>\n",
       "      <td>10.0</td>\n",
       "      <td>5.0</td>\n",
       "      <td>253.0</td>\n",
       "      <td>134.0</td>\n",
       "      <td>1.59</td>\n",
       "      <td>7.7</td>\n",
       "      <td>1.0</td>\n",
       "      <td>NaN</td>\n",
       "      <td>490.0</td>\n",
       "      <td>27.3</td>\n",
       "      <td>9.1</td>\n",
       "      <td>25.803007</td>\n",
       "      <td>34.0</td>\n",
       "    </tr>\n",
       "    <tr>\n",
       "      <th>2794</th>\n",
       "      <td>72.0</td>\n",
       "      <td>96.0</td>\n",
       "      <td>154.0</td>\n",
       "      <td>2.0</td>\n",
       "      <td>43.4</td>\n",
       "      <td>23.0</td>\n",
       "      <td>4.3</td>\n",
       "      <td>265.0</td>\n",
       "      <td>106.0</td>\n",
       "      <td>1.66</td>\n",
       "      <td>6.8</td>\n",
       "      <td>2.0</td>\n",
       "      <td>208.0</td>\n",
       "      <td>301.0</td>\n",
       "      <td>35.2</td>\n",
       "      <td>6.0</td>\n",
       "      <td>33.394319</td>\n",
       "      <td>112.0</td>\n",
       "    </tr>\n",
       "    <tr>\n",
       "      <th>1182</th>\n",
       "      <td>54.0</td>\n",
       "      <td>78.0</td>\n",
       "      <td>205.0</td>\n",
       "      <td>1.0</td>\n",
       "      <td>43.8</td>\n",
       "      <td>12.0</td>\n",
       "      <td>4.2</td>\n",
       "      <td>206.0</td>\n",
       "      <td>180.0</td>\n",
       "      <td>1.67</td>\n",
       "      <td>6.6</td>\n",
       "      <td>2.0</td>\n",
       "      <td>NaN</td>\n",
       "      <td>363.0</td>\n",
       "      <td>49.6</td>\n",
       "      <td>5.9</td>\n",
       "      <td>20.278410</td>\n",
       "      <td>34.0</td>\n",
       "    </tr>\n",
       "    <tr>\n",
       "      <th>6915</th>\n",
       "      <td>59.0</td>\n",
       "      <td>90.0</td>\n",
       "      <td>417.0</td>\n",
       "      <td>1.0</td>\n",
       "      <td>43.4</td>\n",
       "      <td>9.0</td>\n",
       "      <td>4.5</td>\n",
       "      <td>327.0</td>\n",
       "      <td>114.0</td>\n",
       "      <td>1.65</td>\n",
       "      <td>7.6</td>\n",
       "      <td>2.0</td>\n",
       "      <td>NaN</td>\n",
       "      <td>347.0</td>\n",
       "      <td>32.9</td>\n",
       "      <td>6.1</td>\n",
       "      <td>32.917744</td>\n",
       "      <td>78.0</td>\n",
       "    </tr>\n",
       "    <tr>\n",
       "      <th>500</th>\n",
       "      <td>34.0</td>\n",
       "      <td>80.0</td>\n",
       "      <td>385.0</td>\n",
       "      <td>1.0</td>\n",
       "      <td>77.7</td>\n",
       "      <td>9.0</td>\n",
       "      <td>4.1</td>\n",
       "      <td>197.0</td>\n",
       "      <td>64.0</td>\n",
       "      <td>1.74</td>\n",
       "      <td>7.3</td>\n",
       "      <td>2.0</td>\n",
       "      <td>NaN</td>\n",
       "      <td>376.0</td>\n",
       "      <td>17.0</td>\n",
       "      <td>8.2</td>\n",
       "      <td>30.743489</td>\n",
       "      <td>30.0</td>\n",
       "    </tr>\n",
       "  </tbody>\n",
       "</table>\n",
       "</div>"
      ],
      "text/plain": [
       "       Age  Diastolic BP  Poverty index  Race  Red blood cells  \\\n",
       "1599  43.0          84.0          637.0   1.0             49.3   \n",
       "2794  72.0          96.0          154.0   2.0             43.4   \n",
       "1182  54.0          78.0          205.0   1.0             43.8   \n",
       "6915  59.0          90.0          417.0   1.0             43.4   \n",
       "500   34.0          80.0          385.0   1.0             77.7   \n",
       "\n",
       "      Sedimentation rate  Serum Albumin  Serum Cholesterol  Serum Iron  \\\n",
       "1599                10.0            5.0              253.0       134.0   \n",
       "2794                23.0            4.3              265.0       106.0   \n",
       "1182                12.0            4.2              206.0       180.0   \n",
       "6915                 9.0            4.5              327.0       114.0   \n",
       "500                  9.0            4.1              197.0        64.0   \n",
       "\n",
       "      Serum Magnesium  Serum Protein  Sex  Systolic BP   TIBC    TS  \\\n",
       "1599             1.59            7.7  1.0          NaN  490.0  27.3   \n",
       "2794             1.66            6.8  2.0        208.0  301.0  35.2   \n",
       "1182             1.67            6.6  2.0          NaN  363.0  49.6   \n",
       "6915             1.65            7.6  2.0          NaN  347.0  32.9   \n",
       "500              1.74            7.3  2.0          NaN  376.0  17.0   \n",
       "\n",
       "      White blood cells        BMI  Pulse pressure  \n",
       "1599                9.1  25.803007            34.0  \n",
       "2794                6.0  33.394319           112.0  \n",
       "1182                5.9  20.278410            34.0  \n",
       "6915                6.1  32.917744            78.0  \n",
       "500                 8.2  30.743489            30.0  "
      ]
     },
     "execution_count": 4,
     "metadata": {},
     "output_type": "execute_result"
    }
   ],
   "source": [
    "print(\"X_train shape: {}\".format(X_train.shape))\n",
    "X_train.head()"
   ]
  },
  {
   "cell_type": "markdown",
   "id": "ca33971c",
   "metadata": {},
   "source": [
    "<a name='4'></a>\n",
    "## 4. Dealing with Missing Data\n",
    "\n",
    "Looking at our data in `X_train`, we see that some of the data is missing: some values in the output of the previous cell are marked as `NaN` (\"not a number\").\n",
    "\n",
    "Missing data is a common occurrence in data analysis, that can be due to a variety of reasons, such as measuring instrument malfunction, respondents not willing or not able to supply information, and errors in the data collection process.\n",
    "\n",
    "Let's examine the missing data pattern. `seaborn` is an alternative to `matplotlib` that has some convenient plotting functions for data analysis. We can use its `heatmap` function to easily visualize the missing data pattern.\n",
    "\n",
    "Run the cell below to plot the missing data: "
   ]
  },
  {
   "cell_type": "code",
   "execution_count": 5,
   "id": "ca3f1e47",
   "metadata": {},
   "outputs": [
    {
     "data": {
      "image/png": "[encoded data removed]",
      "text/plain": [
       "<Figure size 432x288 with 1 Axes>"
      ]
     },
     "metadata": {
      "needs_background": "light"
     },
     "output_type": "display_data"
    },
    {
     "data": {
      "image/png": "[encoded data removed]",
      "text/plain": [
       "<Figure size 432x288 with 1 Axes>"
      ]
     },
     "metadata": {
      "needs_background": "light"
     },
     "output_type": "display_data"
    }
   ],
   "source": [
    "sns.heatmap(X_train.isnull(), cbar=False)\n",
    "plt.title(\"Training\")\n",
    "plt.show()\n",
    "\n",
    "sns.heatmap(X_val.isnull(), cbar=False)\n",
    "plt.title(\"Validation\")\n",
    "plt.show()"
   ]
  },
  {
   "cell_type": "markdown",
   "id": "b51a2d7d",
   "metadata": {},
   "source": [
    "<a name='Ex-1'></a>\n",
    "### Exercise 1\n",
    "\n",
    "In the cell below, write a function to compute the fraction of cases with missing data. This will help us decide how we handle this missing data in the future."
   ]
  },
  {
   "cell_type": "code",
   "execution_count": 6,
   "id": "df42d531",
   "metadata": {},
   "outputs": [],
   "source": [
    "# UNQ_C1 (UNIQUE CELL IDENTIFIER, DO NOT EDIT)\n",
    "def fraction_rows_missing(df):\n",
    "    '''\n",
    "    Return percent of rows with any missing\n",
    "    data in the dataframe. \n",
    "    \n",
    "    Input:\n",
    "        df (dataframe): a pandas dataframe with potentially missing data\n",
    "    Output:\n",
    "        frac_missing (float): fraction of rows with missing data\n",
    "    '''\n",
    "    ### START CODE HERE (REPLACE 'Pass' with your 'return' code) ###\n",
    "    \n",
    "    ### END CODE HERE ###"
   ]
  },
  {
   "cell_type": "code",
   "execution_count": null,
   "id": "83967be3",
   "metadata": {},
   "outputs": [],
   "source": []
  }
 ],
 "metadata": {
  "kernelspec": {
   "display_name": "Python 3 (ipykernel)",
   "language": "python",
   "name": "python3"
  },
  "language_info": {
   "codemirror_mode": {
    "name": "ipython",
    "version": 3
   },
   "file_extension": ".py",
   "mimetype": "text/x-python",
   "name": "python",
   "nbconvert_exporter": "python",
   "pygments_lexer": "ipython3",
   "version": "3.7.11"
  }
 },
 "nbformat": 4,
 "nbformat_minor": 5
}
