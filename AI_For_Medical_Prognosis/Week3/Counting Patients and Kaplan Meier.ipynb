{
 "cells": [
  {
   "cell_type": "code",
   "execution_count": 2,
   "id": "79ca7b1b",
   "metadata": {},
   "outputs": [],
   "source": [
    "import numpy as np\n",
    "import pandas as pd"
   ]
  },
  {
   "cell_type": "markdown",
   "id": "e49fe853",
   "metadata": {},
   "source": [
    "We'll work with data where:\n",
    "- Time: days after a disease is diagnosed and the patient either dies or left the hospital's supervision.\n",
    "- Event: \n",
    "    - 1 if the patient died\n",
    "    - 0 if the patient was not observed to die beyond the given 'Time' (their data is censored)\n",
    "    \n",
    "Notice that these are the same numbers that you see in the lecture video about estimating survival."
   ]
  },
  {
   "cell_type": "code",
   "execution_count": 3,
   "id": "824056b9",
   "metadata": {},
   "outputs": [
    {
     "data": {
      "text/html": [
       "<div>\n",
       "<style scoped>\n",
       "    .dataframe tbody tr th:only-of-type {\n",
       "        vertical-align: middle;\n",
       "    }\n",
       "\n",
       "    .dataframe tbody tr th {\n",
       "        vertical-align: top;\n",
       "    }\n",
       "\n",
       "    .dataframe thead th {\n",
       "        text-align: right;\n",
       "    }\n",
       "</style>\n",
       "<table border=\"1\" class=\"dataframe\">\n",
       "  <thead>\n",
       "    <tr style=\"text-align: right;\">\n",
       "      <th></th>\n",
       "      <th>Time</th>\n",
       "      <th>Event</th>\n",
       "    </tr>\n",
       "  </thead>\n",
       "  <tbody>\n",
       "    <tr>\n",
       "      <th>0</th>\n",
       "      <td>10</td>\n",
       "      <td>1</td>\n",
       "    </tr>\n",
       "    <tr>\n",
       "      <th>1</th>\n",
       "      <td>8</td>\n",
       "      <td>0</td>\n",
       "    </tr>\n",
       "    <tr>\n",
       "      <th>2</th>\n",
       "      <td>60</td>\n",
       "      <td>1</td>\n",
       "    </tr>\n",
       "    <tr>\n",
       "      <th>3</th>\n",
       "      <td>20</td>\n",
       "      <td>1</td>\n",
       "    </tr>\n",
       "    <tr>\n",
       "      <th>4</th>\n",
       "      <td>12</td>\n",
       "      <td>0</td>\n",
       "    </tr>\n",
       "    <tr>\n",
       "      <th>5</th>\n",
       "      <td>30</td>\n",
       "      <td>1</td>\n",
       "    </tr>\n",
       "    <tr>\n",
       "      <th>6</th>\n",
       "      <td>15</td>\n",
       "      <td>0</td>\n",
       "    </tr>\n",
       "  </tbody>\n",
       "</table>\n",
       "</div>"
      ],
      "text/plain": [
       "   Time  Event\n",
       "0    10      1\n",
       "1     8      0\n",
       "2    60      1\n",
       "3    20      1\n",
       "4    12      0\n",
       "5    30      1\n",
       "6    15      0"
      ]
     },
     "execution_count": 3,
     "metadata": {},
     "output_type": "execute_result"
    }
   ],
   "source": [
    "df = pd.DataFrame({'Time': [10,8,60,20,12,30,15],\n",
    "                   'Event': [1,0,1,1,0,1,0]\n",
    "                  })\n",
    "df"
   ]
  },
  {
   "cell_type": "markdown",
   "id": "248f1f2f",
   "metadata": {},
   "source": [
    "### Count number of censored patients"
   ]
  },
  {
   "cell_type": "code",
   "execution_count": 6,
   "id": "cca67970",
   "metadata": {},
   "outputs": [
    {
     "data": {
      "text/plain": [
       "3"
      ]
     },
     "execution_count": 6,
     "metadata": {},
     "output_type": "execute_result"
    }
   ],
   "source": [
    "sum(df['Event']==0)"
   ]
  },
  {
   "cell_type": "markdown",
   "id": "2d4ba15e",
   "metadata": {},
   "source": [
    "### Count number of patients who definitely survived past time t\n",
    "\n",
    "This assumes that any patient who was censored died at the time of being censored ( **died immediately**).\n",
    "\n",
    "If a patient survived past time `t`:\n",
    "- Their `Time` of event should be greater than `t`.  \n",
    "- Notice that they can have an `Event` of either 1 or 0.  What matters is their `Time` value."
   ]
  },
  {
   "cell_type": "code",
   "execution_count": 8,
   "id": "03a79980",
   "metadata": {},
   "outputs": [
    {
     "data": {
      "text/plain": [
       "2"
      ]
     },
     "execution_count": 8,
     "metadata": {},
     "output_type": "execute_result"
    }
   ],
   "source": [
    "t=25\n",
    "\n",
    "sum(df['Time']>25)"
   ]
  },
  {
   "cell_type": "markdown",
   "id": "183508be",
   "metadata": {},
   "source": [
    "### Count the number of patients who may have survived past t\n",
    "\n",
    "This assumes that censored patients **never die**.\n",
    "- The patient is censored at any time and we assume that they live forever.\n",
    "- The patient died (`Event` is 1) but after time `t`"
   ]
  },
  {
   "cell_type": "code",
   "execution_count": 10,
   "id": "41986de7",
   "metadata": {},
   "outputs": [
    {
     "data": {
      "text/plain": [
       "5"
      ]
     },
     "execution_count": 10,
     "metadata": {},
     "output_type": "execute_result"
    }
   ],
   "source": [
    "t=25\n",
    "sum((df['Event']==0) | (df['Time']>25))"
   ]
  },
  {
   "cell_type": "markdown",
   "id": "ba06092e",
   "metadata": {},
   "source": [
    "### Count number of patients who were not censored before time t"
   ]
  },
  {
   "cell_type": "markdown",
   "id": "833c8d13",
   "metadata": {},
   "source": [
    "If patient was not censored before time `t`:\n",
    "- They either had an event (death) before `t`, at `t`, or after `t` (any time)\n",
    "- Or, their `Time` occurs after time `t` (they may have either died or been censored at a later time after `t`)"
   ]
  },
  {
   "cell_type": "code",
   "execution_count": 13,
   "id": "2ed11739",
   "metadata": {},
   "outputs": [
    {
     "data": {
      "text/plain": [
       "4"
      ]
     },
     "execution_count": 13,
     "metadata": {},
     "output_type": "execute_result"
    }
   ],
   "source": [
    "t=25\n",
    "sum((df['Event']==1) | (df['Time']>25))"
   ]
  },
  {
   "cell_type": "markdown",
   "id": "c1b561b3",
   "metadata": {},
   "source": [
    "<a name=\"kaplan-meier\"></a>\n",
    "## Kaplan-Meier\n",
    "\n",
    "The Kaplan Meier estimate of survival probability is:\n",
    "\n",
    "$$\n",
    "S(t) = \\prod_{t_i \\leq t} (1 - \\frac{d_i}{n_i})\n",
    "$$\n",
    "\n",
    "- $t_i$ are the events observed in the dataset \n",
    "- $d_i$ is the number of deaths at time $t_i$\n",
    "- $n_i$ is the number of people who we know have survived up to time $t_i$.\n"
   ]
  },
  {
   "cell_type": "code",
   "execution_count": 14,
   "id": "c752351c",
   "metadata": {},
   "outputs": [
    {
     "data": {
      "text/html": [
       "<div>\n",
       "<style scoped>\n",
       "    .dataframe tbody tr th:only-of-type {\n",
       "        vertical-align: middle;\n",
       "    }\n",
       "\n",
       "    .dataframe tbody tr th {\n",
       "        vertical-align: top;\n",
       "    }\n",
       "\n",
       "    .dataframe thead th {\n",
       "        text-align: right;\n",
       "    }\n",
       "</style>\n",
       "<table border=\"1\" class=\"dataframe\">\n",
       "  <thead>\n",
       "    <tr style=\"text-align: right;\">\n",
       "      <th></th>\n",
       "      <th>Time</th>\n",
       "      <th>Event</th>\n",
       "    </tr>\n",
       "  </thead>\n",
       "  <tbody>\n",
       "    <tr>\n",
       "      <th>0</th>\n",
       "      <td>3</td>\n",
       "      <td>0</td>\n",
       "    </tr>\n",
       "    <tr>\n",
       "      <th>1</th>\n",
       "      <td>3</td>\n",
       "      <td>1</td>\n",
       "    </tr>\n",
       "    <tr>\n",
       "      <th>2</th>\n",
       "      <td>2</td>\n",
       "      <td>0</td>\n",
       "    </tr>\n",
       "    <tr>\n",
       "      <th>3</th>\n",
       "      <td>2</td>\n",
       "      <td>1</td>\n",
       "    </tr>\n",
       "  </tbody>\n",
       "</table>\n",
       "</div>"
      ],
      "text/plain": [
       "   Time  Event\n",
       "0     3      0\n",
       "1     3      1\n",
       "2     2      0\n",
       "3     2      1"
      ]
     },
     "execution_count": 14,
     "metadata": {},
     "output_type": "execute_result"
    }
   ],
   "source": [
    "df = pd.DataFrame({'Time': [3,3,2,2],\n",
    "                   'Event': [0,1,0,1]\n",
    "                  })\n",
    "df"
   ]
  },
  {
   "cell_type": "markdown",
   "id": "f5ee5aa4",
   "metadata": {},
   "source": [
    "### Find those who survived up to time $t_i$\n",
    "\n",
    "If they survived up to time $t_i$, \n",
    "- Their `Time` is either greater than $t_i$\n",
    "- Or, their `Time` can be equal to $t_i$"
   ]
  },
  {
   "cell_type": "code",
   "execution_count": 16,
   "id": "f42a614d",
   "metadata": {},
   "outputs": [
    {
     "data": {
      "text/plain": [
       "0    True\n",
       "1    True\n",
       "2    True\n",
       "3    True\n",
       "Name: Time, dtype: bool"
      ]
     },
     "execution_count": 16,
     "metadata": {},
     "output_type": "execute_result"
    }
   ],
   "source": [
    "t_i = 2\n",
    "df['Time'] >= t_i"
   ]
  },
  {
   "cell_type": "markdown",
   "id": "2e602d38",
   "metadata": {},
   "source": [
    "### Find those who died at time $t_i$\n",
    "\n",
    "- If they died at $t_i$:\n",
    "- Their `Event` value is 1.  \n",
    "- Also, their `Time` should be equal to $t_i$"
   ]
  },
  {
   "cell_type": "code",
   "execution_count": 17,
   "id": "29073233",
   "metadata": {},
   "outputs": [
    {
     "data": {
      "text/plain": [
       "0    False\n",
       "1    False\n",
       "2    False\n",
       "3     True\n",
       "dtype: bool"
      ]
     },
     "execution_count": 17,
     "metadata": {},
     "output_type": "execute_result"
    }
   ],
   "source": [
    "t_i = 2\n",
    "(df['Event'] == 1) & (df['Time'] == t_i)"
   ]
  },
  {
   "cell_type": "code",
   "execution_count": null,
   "id": "8e7f9747",
   "metadata": {},
   "outputs": [],
   "source": []
  }
 ],
 "metadata": {
  "kernelspec": {
   "display_name": "Python 3 (ipykernel)",
   "language": "python",
   "name": "python3"
  },
  "language_info": {
   "codemirror_mode": {
    "name": "ipython",
    "version": 3
   },
   "file_extension": ".py",
   "mimetype": "text/x-python",
   "name": "python",
   "nbconvert_exporter": "python",
   "pygments_lexer": "ipython3",
   "version": "3.7.11"
  }
 },
 "nbformat": 4,
 "nbformat_minor": 5
}
